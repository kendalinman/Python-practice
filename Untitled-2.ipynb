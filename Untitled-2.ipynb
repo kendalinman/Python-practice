{
 "cells": [
  {
   "cell_type": "markdown",
   "id": "6da8b1e6",
   "metadata": {},
   "source": [
    "# Excercise 2"
   ]
  },
  {
   "cell_type": "markdown",
   "id": "06908b44",
   "metadata": {},
   "source": [
    "## Algorithm Workbench - Problem 5\n",
    "\n",
    "This problem asks me to assign the sum of 10 and 14 to the variable total"
   ]
  },
  {
   "cell_type": "code",
   "execution_count": 1,
   "id": "ba986d8e",
   "metadata": {},
   "outputs": [],
   "source": [
    "total = 10 + 14"
   ]
  },
  {
   "cell_type": "markdown",
   "id": "c14ab135",
   "metadata": {},
   "source": [
    "Above, I wrote the variable total and set it equal to the numbers 10 and 14 with a plus sign adding them together. This should cause the word total to be associated with the addition of the numbers 10 and 14 and when printed, should give us the sum."
   ]
  },
  {
   "cell_type": "code",
   "execution_count": 2,
   "id": "568f3c17",
   "metadata": {},
   "outputs": [
    {
     "name": "stdout",
     "output_type": "stream",
     "text": [
      "24\n"
     ]
    }
   ],
   "source": [
    "print(total)"
   ]
  },
  {
   "cell_type": "markdown",
   "id": "fcdab4b8",
   "metadata": {},
   "source": [
    "As you can see above, when printing the word total by itself caused the sum of the two numbers to appear because the word total is in my computers memory to be associated with the sum of 10 and 14"
   ]
  },
  {
   "cell_type": "markdown",
   "id": "ecb96237",
   "metadata": {},
   "source": [
    "## Programming Excercises - Problem 1"
   ]
  },
  {
   "cell_type": "markdown",
   "id": "dfc5b0f2",
   "metadata": {},
   "source": [
    "In the problem I am asked to print personal information of a student in the same cell in a certain order"
   ]
  },
  {
   "cell_type": "code",
   "execution_count": 3,
   "id": "82138262",
   "metadata": {},
   "outputs": [
    {
     "name": "stdout",
     "output_type": "stream",
     "text": [
      "Cameron Calero\n",
      "2045 Heliport Loop\n",
      "Riverfork, IN 43286\n",
      "812-555-1212\n"
     ]
    }
   ],
   "source": [
    "print(\"Cameron Calero\")\n",
    "print(\"2045 Heliport Loop\")\n",
    "print(\"Riverfork, IN 43286\")\n",
    "print(\"812-555-1212\")"
   ]
  },
  {
   "cell_type": "markdown",
   "id": "fbe2c7af",
   "metadata": {},
   "source": [
    "In order to get this information to be in the correct order, I stayed in one cell but instead of printing all the information in one, I separated each piece of information so that they printed in the order I wanted them to and below each other."
   ]
  },
  {
   "cell_type": "markdown",
   "id": "6549cea9",
   "metadata": {},
   "source": [
    "## Programming Excercises - Problem 13"
   ]
  },
  {
   "cell_type": "code",
   "execution_count": 1,
   "id": "9374b2ee",
   "metadata": {},
   "outputs": [
    {
     "name": "stdout",
     "output_type": "stream",
     "text": [
      "Enter the length of the row, in feet:50\n"
     ]
    }
   ],
   "source": [
    "# I am first going to be asking the user for the length of the row, in feet, I have to include int before \n",
    "#the question because it is a whole number\n",
    "length = int(input('Enter the length of the row, in feet:'))\n",
    "# by setting length equal to this when I type a number for my input, it should associate the word length with it"
   ]
  },
  {
   "cell_type": "code",
   "execution_count": 2,
   "id": "00ae69ec",
   "metadata": {},
   "outputs": [
    {
     "name": "stdout",
     "output_type": "stream",
     "text": [
      "50\n"
     ]
    }
   ],
   "source": [
    "#I am now checking to see if the variable length is now associated with the length of the row which is 50 feet\n",
    "print(length)"
   ]
  },
  {
   "cell_type": "code",
   "execution_count": 3,
   "id": "f63eee71",
   "metadata": {},
   "outputs": [
    {
     "name": "stdout",
     "output_type": "stream",
     "text": [
      "Enter the amount of space used by an end-post assembly, in feet:2\n"
     ]
    }
   ],
   "source": [
    "#I will now ask the user for the amount of spaced used by an end-post assembly, in feet, using the same steps as before\n",
    "space_used = int(input(\"Enter the amount of space used by an end-post assembly, in feet:\"))"
   ]
  },
  {
   "cell_type": "code",
   "execution_count": 7,
   "id": "e9e1ef5d",
   "metadata": {},
   "outputs": [
    {
     "name": "stdout",
     "output_type": "stream",
     "text": [
      "2\n"
     ]
    }
   ],
   "source": [
    "#Now I am checking to see if the variable space_used is associated with the number 2\n",
    "print(space_used)"
   ]
  },
  {
   "cell_type": "code",
   "execution_count": 5,
   "id": "96c1e177",
   "metadata": {},
   "outputs": [
    {
     "name": "stdout",
     "output_type": "stream",
     "text": [
      "Enter the amount of space between the vines, in feet:1\n"
     ]
    }
   ],
   "source": [
    "#so far, both my variables are associated with the proper numbers\n",
    "#I will now ask the user to input the space between the vines\n",
    "space_between_vines = int(input(\"Enter the amount of space between the vines, in feet:\"))"
   ]
  },
  {
   "cell_type": "code",
   "execution_count": 27,
   "id": "59c03319",
   "metadata": {},
   "outputs": [
    {
     "name": "stdout",
     "output_type": "stream",
     "text": [
      "1\n"
     ]
    }
   ],
   "source": [
    "print(space_between_vines)"
   ]
  },
  {
   "cell_type": "code",
   "execution_count": 32,
   "id": "6e54a530",
   "metadata": {},
   "outputs": [],
   "source": [
    "#I checked that the function was working and it was\n",
    "#Now I will associated each letter from the problem with the proper variable from previously\n",
    "R = length"
   ]
  },
  {
   "cell_type": "code",
   "execution_count": 33,
   "id": "aed03d9c",
   "metadata": {},
   "outputs": [
    {
     "name": "stdout",
     "output_type": "stream",
     "text": [
      "50\n"
     ]
    }
   ],
   "source": [
    "print(R)"
   ]
  },
  {
   "cell_type": "code",
   "execution_count": 34,
   "id": "1484c569",
   "metadata": {},
   "outputs": [],
   "source": [
    "#When I print R above, it shows the correct number which is 50 because my computer associates them now\n",
    "E = space_used\n",
    "S = space_between_vines"
   ]
  },
  {
   "cell_type": "code",
   "execution_count": 35,
   "id": "3bc3eabe",
   "metadata": {},
   "outputs": [
    {
     "name": "stdout",
     "output_type": "stream",
     "text": [
      "2\n"
     ]
    }
   ],
   "source": [
    "print(E)"
   ]
  },
  {
   "cell_type": "code",
   "execution_count": 36,
   "id": "2ac21d04",
   "metadata": {},
   "outputs": [
    {
     "name": "stdout",
     "output_type": "stream",
     "text": [
      "1\n"
     ]
    }
   ],
   "source": [
    "print(S)"
   ]
  },
  {
   "cell_type": "code",
   "execution_count": 37,
   "id": "96caca35",
   "metadata": {},
   "outputs": [],
   "source": [
    "#Now I am going to attempt to set each variable up in the equation and set it equal to V\n",
    "V = (R - 2 * E)/S"
   ]
  },
  {
   "cell_type": "code",
   "execution_count": 38,
   "id": "97898e9d",
   "metadata": {},
   "outputs": [
    {
     "name": "stdout",
     "output_type": "stream",
     "text": [
      "46.0\n"
     ]
    }
   ],
   "source": [
    "print(V)"
   ]
  },
  {
   "cell_type": "code",
   "execution_count": null,
   "id": "42b57e25",
   "metadata": {},
   "outputs": [],
   "source": []
  }
 ],
 "metadata": {
  "kernelspec": {
   "display_name": "Python 3 (ipykernel)",
   "language": "python",
   "name": "python3"
  },
  "language_info": {
   "codemirror_mode": {
    "name": "ipython",
    "version": 3
   },
   "file_extension": ".py",
   "mimetype": "text/x-python",
   "name": "python",
   "nbconvert_exporter": "python",
   "pygments_lexer": "ipython3",
   "version": "3.10.9"
  }
 },
 "nbformat": 4,
 "nbformat_minor": 5
}
