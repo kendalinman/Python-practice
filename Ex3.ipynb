{
 "cells": [
  {
   "cell_type": "markdown",
   "id": "f677fbc9",
   "metadata": {},
   "source": [
    "# Chapter 3"
   ]
  },
  {
   "cell_type": "markdown",
   "id": "da7214fc",
   "metadata": {},
   "source": [
    "## Algorithm Workbench - Problem 4 and 5\n",
    "\n",
    "Problem 4"
   ]
  },
  {
   "cell_type": "markdown",
   "id": "7ad965da",
   "metadata": {},
   "source": [
    "For this problem I am asked to rewrite an if-else statement with proper alignment."
   ]
  },
  {
   "cell_type": "markdown",
   "id": "f6bc4873",
   "metadata": {},
   "source": [
    "if score >= A_score:\n",
    "\n",
    "    print(\"Your grade is A.\")\n",
    "    \n",
    "else:\n",
    "\n",
    "    if score >= B_score:\n",
    "    \n",
    "        print(\"Your grade is B.\")\n",
    "        \n",
    "    else:\n",
    "    \n",
    "        if score >= C_score:\n",
    "        \n",
    "            print(\"Your grade is C.\")\n",
    "            \n",
    "        else:\n",
    "        \n",
    "            if score >= D_score:\n",
    "            \n",
    "                print(\"Your grade is D.\")\n",
    "                \n",
    "            else:\n",
    "            \n",
    "                print(\"Your grade is F.\")"
   ]
  },
  {
   "cell_type": "markdown",
   "id": "68cc5248",
   "metadata": {},
   "source": [
    "I rewrote the code above prorperly indented and alligned, before the statements were all alligned with no indentation so I added it where I learned through out the chapter to add it."
   ]
  },
  {
   "cell_type": "markdown",
   "id": "874886c3",
   "metadata": {},
   "source": [
    "Problem 5"
   ]
  },
  {
   "cell_type": "markdown",
   "id": "3176c691",
   "metadata": {},
   "source": [
    "In this problem I am asked to write decision structures that peform information they gave me."
   ]
  },
  {
   "cell_type": "code",
   "execution_count": 2,
   "id": "db837438",
   "metadata": {},
   "outputs": [
    {
     "ename": "SyntaxError",
     "evalue": "invalid syntax. Perhaps you forgot a comma? (3650135899.py, line 1)",
     "output_type": "error",
     "traceback": [
      "\u001b[0;36m  Cell \u001b[0;32mIn[2], line 1\u001b[0;36m\u001b[0m\n\u001b[0;31m    amount1 = float(input(enter amount:))\u001b[0m\n\u001b[0m                          ^\u001b[0m\n\u001b[0;31mSyntaxError\u001b[0m\u001b[0;31m:\u001b[0m invalid syntax. Perhaps you forgot a comma?\n"
     ]
    }
   ],
   "source": [
    "amount1 = float(input(enter amount:))\n",
    "amount2 = float(input(enter another amount:))\n",
    "if amount1 > 10 and amount2 < 100\n",
    "    if amount1 > amount2\n",
    "        print(\"amount1\")\n",
    "    else:\n",
    "        print(\"amount2\")\n",
    "#this is the way I would assume you would set up this problem, I am going to attempt to put in numbers and see if \n",
    "#the code works"
   ]
  },
  {
   "cell_type": "code",
   "execution_count": 1,
   "id": "1120b8a2",
   "metadata": {
    "scrolled": true
   },
   "outputs": [
    {
     "name": "stdout",
     "output_type": "stream",
     "text": [
      "enter value for amount1: 8\n",
      "enter value for amount2: 40\n",
      "40\n"
     ]
    }
   ],
   "source": [
    "amount1 = int(input(\"enter value for amount1: \"))\n",
    "amount2 = int(input(\"enter value for amount2: \"))\n",
    "\n",
    "if amount1 > 10 and amount2 < 100:\n",
    "    if amount1 > amount2:\n",
    "        print(amount1)\n",
    "else:\n",
    "        print(amount2)"
   ]
  },
  {
   "cell_type": "markdown",
   "id": "41c4b5c3",
   "metadata": {},
   "source": [
    "As you can see, I had to make some changes, I had to put quotes around what I wanted the user to input, I had to adjust my alignment and then I got it to work."
   ]
  },
  {
   "cell_type": "markdown",
   "id": "3230b2d2",
   "metadata": {},
   "source": [
    "## Programming Excercises - Problems 1, 5, \n",
    "\n",
    "Problem 1"
   ]
  },
  {
   "cell_type": "markdown",
   "id": "858f5b72",
   "metadata": {},
   "source": [
    "In this problem I am asked to correspond numbers 1 through 7 with a day of the week and if the user picks one of these numbers a day of the week should be printed."
   ]
  },
  {
   "cell_type": "code",
   "execution_count": 3,
   "id": "89d2f4df",
   "metadata": {},
   "outputs": [
    {
     "name": "stdout",
     "output_type": "stream",
     "text": [
      "Enter a number 1 through 7\n"
     ]
    },
    {
     "ename": "NameError",
     "evalue": "name 'number' is not defined",
     "output_type": "error",
     "traceback": [
      "\u001b[0;31m---------------------------------------------------------------------------\u001b[0m",
      "\u001b[0;31mNameError\u001b[0m                                 Traceback (most recent call last)",
      "Cell \u001b[0;32mIn[3], line 3\u001b[0m\n\u001b[1;32m      1\u001b[0m \u001b[38;5;28mprint\u001b[39m(\u001b[38;5;124m\"\u001b[39m\u001b[38;5;124mEnter a number 1 through 7\u001b[39m\u001b[38;5;124m\"\u001b[39m)\n\u001b[0;32m----> 3\u001b[0m \u001b[38;5;28;01mif\u001b[39;00m \u001b[43mnumber\u001b[49m \u001b[38;5;241m==\u001b[39m \u001b[38;5;241m1\u001b[39m:\n\u001b[1;32m      4\u001b[0m     \u001b[38;5;28mprint\u001b[39m(\u001b[38;5;124m\"\u001b[39m\u001b[38;5;124mmonday\u001b[39m\u001b[38;5;124m\"\u001b[39m)\n\u001b[1;32m      5\u001b[0m \u001b[38;5;28;01melif\u001b[39;00m number \u001b[38;5;241m==\u001b[39m \u001b[38;5;241m2\u001b[39m:\n",
      "\u001b[0;31mNameError\u001b[0m: name 'number' is not defined"
     ]
    }
   ],
   "source": [
    "print(\"Enter a number 1 through 7\")\n",
    "\n",
    "if number == 1:\n",
    "    print(\"monday\") #I am correlating each number with a day of the week by using if-elif-else, i also made sure to \n",
    "elif number == 2:   #include a double == sign in order for my code to run properly, I did this for all 7 numbers\n",
    "    print(\"tuesday\")\n",
    "elif number == 3:\n",
    "    print(\"wednesday\")\n",
    "elif number == 4:\n",
    "    print(\"thursday\")\n",
    "elif number == 5:\n",
    "    print(\"friday\")\n",
    "elif number == 6:\n",
    "    print (\"saturday\")\n",
    "elif number == 7:\n",
    "    print(\"sunday\")\n",
    "else:\n",
    "    print(\"error message\") #I included an error message for any number other than 1-7 because they won't be correlated\n",
    "                           #with a day of the week"
   ]
  },
  {
   "cell_type": "markdown",
   "id": "6000fa63",
   "metadata": {},
   "source": [
    "I am realizing now after attempting to run this that I need to use number = input instead of printing the question because the user needs to be able to type a number in order for the code to run, I am going to add that and it should work. I recieved an error in this cell because the word number is not defined because I didn't correlate the word with anything."
   ]
  },
  {
   "cell_type": "code",
   "execution_count": 9,
   "id": "b9a01be5",
   "metadata": {},
   "outputs": [
    {
     "name": "stdout",
     "output_type": "stream",
     "text": [
      "enter a value one through seven: 4\n",
      "thursday\n"
     ]
    }
   ],
   "source": [
    "number = int(input(\"enter a value one through seven: \")) #I am using int in front because the number im printing is whole\n",
    "\n",
    "if number == 1:      #making sure to correlate each number with the right day of the week and formatting right\n",
    "    print(\"monday\")\n",
    "elif number == 2:\n",
    "    print(\"tuesday\")\n",
    "elif number == 3:\n",
    "    print(\"wednesday\")\n",
    "elif number == 4:\n",
    "    print(\"thursday\")\n",
    "elif number == 5:\n",
    "    print(\"friday\")\n",
    "elif number == 6:\n",
    "    print (\"saturday\")\n",
    "elif number == 7:\n",
    "    print(\"sunday\")\n",
    "else:\n",
    "    print(\"error message\")"
   ]
  },
  {
   "cell_type": "markdown",
   "id": "69438b8a",
   "metadata": {},
   "source": [
    "It worked! After looking back in the book and my past work I just needed to adjust my work slightly in order for the computer to ask the user to input a number for the code."
   ]
  },
  {
   "cell_type": "markdown",
   "id": "d342ec43",
   "metadata": {},
   "source": [
    "Problem 5\n",
    "\n",
    "This problem asks me to find the weight, in newtons of an object."
   ]
  },
  {
   "cell_type": "code",
   "execution_count": 4,
   "id": "723179dd",
   "metadata": {},
   "outputs": [
    {
     "name": "stdout",
     "output_type": "stream",
     "text": [
      "enter the mass of an object: 10\n",
      "this object is too light\n"
     ]
    }
   ],
   "source": [
    "mass = int(input('enter the mass of an object: ')) #I first define mass in order for the equation to work\n",
    "weight = mass * 9.8                                #I then set weight equal to the equation the problem gave me\n",
    "\n",
    "if weight > 500:\n",
    "    print('the object is too heavy')\n",
    "elif weight < 100:\n",
    "    print('this object is too light')\n",
    "else:\n",
    "    print(weight)\n",
    "#I use if-elif-else in order to have the code print what the problem told me too if the object was too heavy or light"
   ]
  },
  {
   "cell_type": "code",
   "execution_count": 3,
   "id": "f356910a",
   "metadata": {},
   "outputs": [
    {
     "name": "stdout",
     "output_type": "stream",
     "text": [
      "enter the mass of an object: 30\n",
      "294.0\n"
     ]
    }
   ],
   "source": [
    "mass = int(input('enter the mass of an object: '))\n",
    "weight = mass * 9.8\n",
    "\n",
    "if weight > 500:\n",
    "    print('the object is too heavy')\n",
    "elif weight < 100:\n",
    "    print('this object is too light')\n",
    "else:\n",
    "    print(weight)"
   ]
  },
  {
   "cell_type": "markdown",
   "id": "7fc44d95",
   "metadata": {},
   "source": [
    "The code worked, I tried it again with a number that wouldn't be too light or heavy in order to make sure it solved correctly. I used int in front of input because I was inputting whole numbers as my weight, I could have used float if I was going to use decimals but since I wasn't, I stuck with int."
   ]
  },
  {
   "cell_type": "markdown",
   "id": "e9169eb4",
   "metadata": {},
   "source": [
    "Problem 16\n",
    "\n",
    "This problem asks me to lead a person through fixing a bad wifi connection"
   ]
  },
  {
   "cell_type": "code",
   "execution_count": 9,
   "id": "001dbb26",
   "metadata": {},
   "outputs": [
    {
     "name": "stdout",
     "output_type": "stream",
     "text": [
      "reboot the computer and try to connect\n",
      "did that fix the problemyes\n"
     ]
    },
    {
     "data": {
      "text/plain": [
       "'yes'"
      ]
     },
     "execution_count": 9,
     "metadata": {},
     "output_type": "execute_result"
    }
   ],
   "source": [
    "print('reboot the computer and try to connect')\n",
    "(input('did that fix the problem'))"
   ]
  },
  {
   "cell_type": "markdown",
   "id": "2858c50c",
   "metadata": {},
   "source": [
    "I first tested to make sure the beginning of this problem would work, I didn't include float or int because I am inputting yes or no as the user and not a number. Now I will continue with if statements."
   ]
  },
  {
   "cell_type": "code",
   "execution_count": 17,
   "id": "4b322692",
   "metadata": {},
   "outputs": [
    {
     "name": "stdout",
     "output_type": "stream",
     "text": [
      "reboot the computer and try to connect\n",
      "did that fix the problemyes\n",
      "problem was solved\n"
     ]
    }
   ],
   "source": [
    "print('reboot the computer and try to connect')\n",
    "answer = input('did that fix the problem')\n",
    "      \n",
    "if answer == 'yes':\n",
    "      print('problem was solved')\n",
    "else:\n",
    "      print('move the router to a new location and try to connect')\n",
    "      "
   ]
  },
  {
   "cell_type": "markdown",
   "id": "8a08db5b",
   "metadata": {},
   "source": [
    "Now that I got this to work, I am going to repeat with different if and elses until I reach the end of the steps to fix a computer."
   ]
  },
  {
   "cell_type": "code",
   "execution_count": 12,
   "id": "cb282690",
   "metadata": {},
   "outputs": [
    {
     "name": "stdout",
     "output_type": "stream",
     "text": [
      "reboot the computer and try to connect\n",
      "did that fix the problemno\n",
      "move the router to a new location and try to connect\n",
      "did that fix the problem?no\n",
      "move the router to a new location and try to connect\n",
      "did that fix the problem?no\n",
      "get a new router.\n"
     ]
    }
   ],
   "source": [
    "print('reboot the computer and try to connect') #The first step to fixing a computer is to reboot so I put this to print first\n",
    "answer = input('did that fix the problem')      #I then input a prompt where the user could answer if problem was fixed\n",
    "      \n",
    "if answer == 'yes':\n",
    "      print('problem was solved') #I used an if else statement so that if they input yes the problem would be solved\n",
    "else:                              #if the user input no a new solution to the problem would appear, I repeated this\n",
    "      print('move the router to a new location and try to connect')\n",
    "        \n",
    "answer = input('did that fix the problem?')\n",
    "\n",
    "if answer == 'yes':\n",
    "    print('problem was solved')\n",
    "else:\n",
    "    print('move the router to a new location and try to connect')\n",
    "\n",
    "answer = input('did that fix the problem?')\n",
    "\n",
    "if answer == 'yes':\n",
    "    print('problem was solved')\n",
    "else:\n",
    "    print('get a new router.')"
   ]
  },
  {
   "cell_type": "code",
   "execution_count": null,
   "id": "46aff5fc",
   "metadata": {},
   "outputs": [],
   "source": [
    "All of the code worked! I am going to try it one more time now and put a yes to see if the program ends."
   ]
  },
  {
   "cell_type": "code",
   "execution_count": null,
   "id": "177c697e",
   "metadata": {},
   "outputs": [
    {
     "name": "stdout",
     "output_type": "stream",
     "text": [
      "reboot the computer and try to connect\n",
      "did that fix the problemyes\n",
      "problem was solved\n"
     ]
    }
   ],
   "source": [
    "print('reboot the computer and try to connect')\n",
    "answer = input('did that fix the problem')\n",
    "      \n",
    "if answer == 'yes':\n",
    "      print('problem was solved')\n",
    "else:\n",
    "      print('move the router to a new location and try to connect')\n",
    "        \n",
    "answer = input('did that fix the problem?')\n",
    "\n",
    "if answer == 'yes':\n",
    "    print('problem was solved')\n",
    "else:\n",
    "    print('move the router to a new location and try to connect')\n",
    "\n",
    "answer = input('did that fix the problem?')\n",
    "\n",
    "if answer == 'yes':\n",
    "    print('problem was solved')\n",
    "else:\n",
    "    print('get a new router.')"
   ]
  },
  {
   "cell_type": "markdown",
   "id": "08f3469f",
   "metadata": {},
   "source": [
    "I am now realizing that when I typed yes the program didn't end, therefor I need to add some more code in order for the code to end."
   ]
  },
  {
   "cell_type": "code",
   "execution_count": 13,
   "id": "f01be529",
   "metadata": {},
   "outputs": [
    {
     "name": "stdout",
     "output_type": "stream",
     "text": [
      "reboot the computer and try to connect\n",
      "Did that fix the problem? yes\n",
      "Problem was solved\n"
     ]
    }
   ],
   "source": [
    "print('reboot the computer and try to connect')\n",
    "answer = input('Did that fix the problem? ')\n",
    "\n",
    "if answer == 'yes': #All I changed for this code is including indentation which triggered the code to end after I put yes\n",
    "    print('Problem was solved')\n",
    "else:\n",
    "    print('Move the router to a new location and try to connect')\n",
    "    answer = input('Did that fix the problem? ')\n",
    "\n",
    "    if answer == 'yes':\n",
    "        print('Problem was solved')\n",
    "    else:\n",
    "        print('Move the router to a new location and try to connect')\n",
    "        answer = input('Did that fix the problem? ')\n",
    "\n",
    "        if answer == 'yes':\n",
    "            print('Problem was solved')\n",
    "        else:\n",
    "            print('Get a new router.')"
   ]
  },
  {
   "cell_type": "markdown",
   "id": "36db0149",
   "metadata": {},
   "source": [
    "I now adjusted the if and elses with indentations so that when i enter yes the code ends."
   ]
  },
  {
   "cell_type": "code",
   "execution_count": 7,
   "id": "24a4151f",
   "metadata": {},
   "outputs": [
    {
     "name": "stdout",
     "output_type": "stream",
     "text": [
      "is anyone in your party vegan? yes\n",
      "is anyone in your party vegetarian? no\n",
      "is anyone in your party gluten-free? yes\n",
      "here are your restuarant choices: \n",
      "the chef's kitchen-vegetarian\n",
      "main street pizza company-vegetarian\n",
      "corner cafe-vegetarian\n",
      "the chefs kitchen-vegetarian\n"
     ]
    },
    {
     "ename": "NameError",
     "evalue": "name 'vegatarian' is not defined",
     "output_type": "error",
     "traceback": [
      "\u001b[0;31m---------------------------------------------------------------------------\u001b[0m",
      "\u001b[0;31mNameError\u001b[0m                                 Traceback (most recent call last)",
      "Cell \u001b[0;32mIn[7], line 12\u001b[0m\n\u001b[1;32m     10\u001b[0m           \u001b[38;5;28mprint\u001b[39m(\u001b[38;5;124m\"\u001b[39m\u001b[38;5;124mcorner cafe-vegetarian\u001b[39m\u001b[38;5;124m\"\u001b[39m)\n\u001b[1;32m     11\u001b[0m           \u001b[38;5;28mprint\u001b[39m(\u001b[38;5;124m\"\u001b[39m\u001b[38;5;124mthe chefs kitchen-vegetarian\u001b[39m\u001b[38;5;124m\"\u001b[39m)\n\u001b[0;32m---> 12\u001b[0m \u001b[38;5;28;01mif\u001b[39;00m \u001b[43mvegatarian\u001b[49m \u001b[38;5;241m==\u001b[39m yes:\n\u001b[1;32m     13\u001b[0m     \u001b[38;5;28mprint\u001b[39m(\u001b[38;5;124m\"\u001b[39m\u001b[38;5;124mmama\u001b[39m\u001b[38;5;124m'\u001b[39m\u001b[38;5;124ms fine italian-vegetarian\u001b[39m\u001b[38;5;124m\"\u001b[39m)\n",
      "\u001b[0;31mNameError\u001b[0m: name 'vegatarian' is not defined"
     ]
    }
   ],
   "source": [
    "vegan = input('is anyone in your party vegan? ')\n",
    "vegetarian = input('is anyone in your party vegetarian? ')\n",
    "gluten_free = input('is anyone in your party gluten-free? ')\n",
    "print('here are your restuarant choices: ')\n",
    "\n",
    "if vegan and vegetarian and gluten_free == 'yes':\n",
    "    print(\"the chef's kitchen-vegetarian\")\n",
    "if vegetarian and gluten_free == 'yes':\n",
    "          print(\"main street pizza company-vegetarian\")\n",
    "          print(\"corner cafe-vegetarian\")\n",
    "          print(\"the chefs kitchen-vegetarian\")\n",
    "if vegatarian == yes:\n",
    "    print(\"mama's fine italian-vegetarian\")\n",
    "                \n",
    "                \n",
    "            \n",
    "        "
   ]
  },
  {
   "cell_type": "markdown",
   "id": "44d4546d",
   "metadata": {},
   "source": [
    "After trying this method I realize that the restuarant names are printing multiple times, instead I am going to go restuarant by restuarant and see if that will make them print once each."
   ]
  },
  {
   "cell_type": "code",
   "execution_count": 9,
   "id": "c839c761",
   "metadata": {},
   "outputs": [
    {
     "name": "stdout",
     "output_type": "stream",
     "text": [
      "is anyone in your party vegan? yes\n",
      "is anyone in your party vegetarian? no\n",
      "is anyone in your party gluten-free? yes\n",
      "here are your restuarant choices: \n",
      "Main Street Pizza Company\n",
      "Corner Cafe\n",
      "The Chefs Kitchen\n"
     ]
    }
   ],
   "source": [
    "vegan = input('is anyone in your party vegan? ') #I am first setting each food restriction equal to a question the user\n",
    "                                                            #can input a yes or no for\n",
    "vegetarian = input('is anyone in your party vegetarian? ')\n",
    "gluten_free = input('is anyone in your party gluten-free? ')\n",
    "print('here are your restuarant choices: ') # I then am having a restuarant choice list print before my options print\n",
    "\n",
    "if vegetarian or gluten_free == 'yes':  #Here I used an or statement so that if either one of the restrictions is \n",
    "    print('Main Street Pizza Company')  #present, the restuarants that would fit that restriction will list and I did\n",
    "if vegetarian or vegan or gluten_free == 'yes':  #this for all of the restuarants\n",
    "    print('Corner Cafe')\n",
    "if vegetarian == 'yes':\n",
    "    print('Mamas Fine Italian')\n",
    "if vegetarian or vegan or gluten_free == \"yes\":\n",
    "    print('The Chefs Kitchen')"
   ]
  },
  {
   "cell_type": "code",
   "execution_count": 10,
   "id": "a0e3b9f2",
   "metadata": {},
   "outputs": [
    {
     "name": "stdout",
     "output_type": "stream",
     "text": [
      "is anyone in your party vegan? no\n",
      "is anyone in your party vegetarian? yes\n",
      "is anyone in your party gluten-free? yes\n",
      "here are your restuarant choices: \n",
      "Main Street Pizza Company\n",
      "Corner Cafe\n",
      "Mamas Fine Italian\n",
      "The Chefs Kitchen\n"
     ]
    }
   ],
   "source": [
    "vegan = input('is anyone in your party vegan? ')\n",
    "vegetarian = input('is anyone in your party vegetarian? ')\n",
    "gluten_free = input('is anyone in your party gluten-free? ')\n",
    "print('here are your restuarant choices: ')\n",
    "\n",
    "if vegetarian or gluten_free == 'yes':\n",
    "    print('Main Street Pizza Company')\n",
    "if vegetarian or vegan or gluten_free == 'yes':\n",
    "    print('Corner Cafe')\n",
    "if vegetarian == 'yes':\n",
    "    print('Mamas Fine Italian')\n",
    "if vegetarian or vegan or gluten_free == \"yes\":\n",
    "    print('The Chefs Kitchen')"
   ]
  },
  {
   "cell_type": "markdown",
   "id": "7f6859d1",
   "metadata": {},
   "source": [
    "After doing this restuarant by restuarant I got it to work!"
   ]
  }
 ],
 "metadata": {
  "kernelspec": {
   "display_name": "Python 3 (ipykernel)",
   "language": "python",
   "name": "python3"
  },
  "language_info": {
   "codemirror_mode": {
    "name": "ipython",
    "version": 3
   },
   "file_extension": ".py",
   "mimetype": "text/x-python",
   "name": "python",
   "nbconvert_exporter": "python",
   "pygments_lexer": "ipython3",
   "version": "3.10.9"
  }
 },
 "nbformat": 4,
 "nbformat_minor": 5
}
