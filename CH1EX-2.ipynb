{
 "cells": [
  {
   "attachments": {},
   "cell_type": "markdown",
   "id": "80e75c63",
   "metadata": {},
   "source": [
    "# Ch1 Excercises"
   ]
  },
  {
   "attachments": {},
   "cell_type": "markdown",
   "id": "aabdcb2a",
   "metadata": {},
   "source": [
    "Problem 1 , 3 , 4\n",
    "## Ex 1"
   ]
  },
  {
   "cell_type": "code",
   "execution_count": 2,
   "id": "55eb1080",
   "metadata": {
    "scrolled": true
   },
   "outputs": [
    {
     "name": "stdout",
     "output_type": "stream",
     "text": [
      "This is a test of the Python interpreter.\n"
     ]
    }
   ],
   "source": [
    "print('This is a test of the Python interpreter.')"
   ]
  },
  {
   "attachments": {},
   "cell_type": "markdown",
   "id": "a53df604",
   "metadata": {},
   "source": [
    "## Ex 3"
   ]
  },
  {
   "attachments": {},
   "cell_type": "markdown",
   "id": "634ae00c",
   "metadata": {},
   "source": [
    "1011 , \n",
    "1000001 , \n",
    "1100100 , \n",
    "11111111"
   ]
  },
  {
   "attachments": {},
   "cell_type": "markdown",
   "id": "b70e8266",
   "metadata": {},
   "source": [
    "## Ex 4"
   ]
  },
  {
   "attachments": {},
   "cell_type": "markdown",
   "id": "d53738da",
   "metadata": {},
   "source": [
    "13 , 8 , 43 "
   ]
  },
  {
   "cell_type": "code",
   "execution_count": null,
   "id": "cba36d97",
   "metadata": {},
   "outputs": [],
   "source": []
  }
 ],
 "metadata": {
  "kernelspec": {
   "display_name": "Python 3 (ipykernel)",
   "language": "python",
   "name": "python3"
  },
  "language_info": {
   "codemirror_mode": {
    "name": "ipython",
    "version": 3
   },
   "file_extension": ".py",
   "mimetype": "text/x-python",
   "name": "python",
   "nbconvert_exporter": "python",
   "pygments_lexer": "ipython3",
   "version": "3.10.9"
  }
 },
 "nbformat": 4,
 "nbformat_minor": 5
}
